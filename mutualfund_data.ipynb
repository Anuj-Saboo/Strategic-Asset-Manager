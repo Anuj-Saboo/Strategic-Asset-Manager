{
 "cells": [
  {
   "cell_type": "code",
   "execution_count": 1,
   "metadata": {},
   "outputs": [],
   "source": [
    "import pandas as pd\n",
    "from yahoofinancials import YahooFinancials\n",
    "from datetime import date"
   ]
  },
  {
   "cell_type": "code",
   "execution_count": 2,
   "metadata": {},
   "outputs": [],
   "source": [
    "symbols = ['UMPSX','UMPIX','CGMRX','CSRSX','CSRIX','RYCVX','RYLDX','RYCYX','ARYCX','BREFX','FANIX','ORECX',\n",
    "          'ORENX','FAGNX','PAREX','FRESX','HFCIX','FARCX','FRSSX','HFCSX','FREAX','UBVSX','UBVAX','UBVLX',\n",
    "           'UBVRX','FSENX','VSTCX','FLCGX','KMDVX','QNTAX']\n",
    "yahoo_financials_tech = YahooFinancials(symbols)\n",
    "daily_stocks_prices = yahoo_financials_tech.get_historical_price_data('2015-01-01','2020-01-01', 'daily')"
   ]
  },
  {
   "cell_type": "code",
   "execution_count": 3,
   "metadata": {},
   "outputs": [],
   "source": [
    "df_final = pd.DataFrame()\n",
    "for symbol in symbols:\n",
    "        prices_list = daily_stocks_prices.get(symbol).get(\"prices\")\n",
    "        df_prices = pd.DataFrame.from_dict(prices_list)\n",
    "        \n",
    "        df_prices = df_prices[['high','low','open','close','formatted_date']]\n",
    "        df_prices['year'] = pd.to_datetime(df_prices['formatted_date']).dt.year\n",
    "        df_prices['symbol'] = symbol\n",
    "        df_prices = df_prices[['symbol','high','low','open','close','formatted_date','year']]\n",
    "        df_final = df_final.append(df_prices,ignore_index=True)"
   ]
  },
  {
   "cell_type": "code",
   "execution_count": 4,
   "metadata": {},
   "outputs": [
    {
     "data": {
      "text/html": [
       "<div>\n",
       "<style scoped>\n",
       "    .dataframe tbody tr th:only-of-type {\n",
       "        vertical-align: middle;\n",
       "    }\n",
       "\n",
       "    .dataframe tbody tr th {\n",
       "        vertical-align: top;\n",
       "    }\n",
       "\n",
       "    .dataframe thead th {\n",
       "        text-align: right;\n",
       "    }\n",
       "</style>\n",
       "<table border=\"1\" class=\"dataframe\">\n",
       "  <thead>\n",
       "    <tr style=\"text-align: right;\">\n",
       "      <th></th>\n",
       "      <th>symbol</th>\n",
       "      <th>high</th>\n",
       "      <th>low</th>\n",
       "      <th>open</th>\n",
       "      <th>close</th>\n",
       "      <th>formatted_date</th>\n",
       "      <th>year</th>\n",
       "      <th>mean</th>\n",
       "    </tr>\n",
       "  </thead>\n",
       "  <tbody>\n",
       "    <tr>\n",
       "      <th>0</th>\n",
       "      <td>UMPSX</td>\n",
       "      <td>24.879999</td>\n",
       "      <td>24.879999</td>\n",
       "      <td>24.879999</td>\n",
       "      <td>24.879999</td>\n",
       "      <td>2015-01-02</td>\n",
       "      <td>2015</td>\n",
       "      <td>24.879999</td>\n",
       "    </tr>\n",
       "    <tr>\n",
       "      <th>1</th>\n",
       "      <td>UMPSX</td>\n",
       "      <td>24.103333</td>\n",
       "      <td>24.103333</td>\n",
       "      <td>24.103333</td>\n",
       "      <td>24.103333</td>\n",
       "      <td>2015-01-05</td>\n",
       "      <td>2015</td>\n",
       "      <td>24.103333</td>\n",
       "    </tr>\n",
       "    <tr>\n",
       "      <th>2</th>\n",
       "      <td>UMPSX</td>\n",
       "      <td>23.563334</td>\n",
       "      <td>23.563334</td>\n",
       "      <td>23.563334</td>\n",
       "      <td>23.563334</td>\n",
       "      <td>2015-01-06</td>\n",
       "      <td>2015</td>\n",
       "      <td>23.563334</td>\n",
       "    </tr>\n",
       "    <tr>\n",
       "      <th>3</th>\n",
       "      <td>UMPSX</td>\n",
       "      <td>24.170000</td>\n",
       "      <td>24.170000</td>\n",
       "      <td>24.170000</td>\n",
       "      <td>24.170000</td>\n",
       "      <td>2015-01-07</td>\n",
       "      <td>2015</td>\n",
       "      <td>24.170000</td>\n",
       "    </tr>\n",
       "    <tr>\n",
       "      <th>4</th>\n",
       "      <td>UMPSX</td>\n",
       "      <td>24.930000</td>\n",
       "      <td>24.930000</td>\n",
       "      <td>24.930000</td>\n",
       "      <td>24.930000</td>\n",
       "      <td>2015-01-08</td>\n",
       "      <td>2015</td>\n",
       "      <td>24.930000</td>\n",
       "    </tr>\n",
       "  </tbody>\n",
       "</table>\n",
       "</div>"
      ],
      "text/plain": [
       "  symbol       high        low       open      close formatted_date  year  \\\n",
       "0  UMPSX  24.879999  24.879999  24.879999  24.879999     2015-01-02  2015   \n",
       "1  UMPSX  24.103333  24.103333  24.103333  24.103333     2015-01-05  2015   \n",
       "2  UMPSX  23.563334  23.563334  23.563334  23.563334     2015-01-06  2015   \n",
       "3  UMPSX  24.170000  24.170000  24.170000  24.170000     2015-01-07  2015   \n",
       "4  UMPSX  24.930000  24.930000  24.930000  24.930000     2015-01-08  2015   \n",
       "\n",
       "        mean  \n",
       "0  24.879999  \n",
       "1  24.103333  \n",
       "2  23.563334  \n",
       "3  24.170000  \n",
       "4  24.930000  "
      ]
     },
     "execution_count": 4,
     "metadata": {},
     "output_type": "execute_result"
    }
   ],
   "source": [
    "df_final['mean'] = (df_final['high'] + df_final['low'] + df_final['open'] + df_final['close']) / 4\n",
    "df_final.head()"
   ]
  },
  {
   "cell_type": "code",
   "execution_count": 5,
   "metadata": {},
   "outputs": [],
   "source": [
    "df_final.to_csv('Top30MFdata.csv',index=False)"
   ]
  }
 ],
 "metadata": {
  "kernelspec": {
   "display_name": "Python 3",
   "language": "python",
   "name": "python3"
  },
  "language_info": {
   "codemirror_mode": {
    "name": "ipython",
    "version": 3
   },
   "file_extension": ".py",
   "mimetype": "text/x-python",
   "name": "python",
   "nbconvert_exporter": "python",
   "pygments_lexer": "ipython3",
   "version": "3.7.3"
  }
 },
 "nbformat": 4,
 "nbformat_minor": 2
}
