{
 "cells": [
  {
   "cell_type": "code",
   "execution_count": 6,
   "metadata": {},
   "outputs": [
    {
     "ename": "AttributeError",
     "evalue": "'dict' object has no attribute 'url'",
     "output_type": "error",
     "traceback": [
      "\u001b[0;31m---------------------------------------------------------------------------\u001b[0m",
      "\u001b[0;31mAttributeError\u001b[0m                            Traceback (most recent call last)",
      "\u001b[0;32m<ipython-input-6-1a943b534038>\u001b[0m in \u001b[0;36m<module>\u001b[0;34m\u001b[0m\n\u001b[1;32m     30\u001b[0m     \u001b[0;31m#pprint.pprint(all_articles[\"arall_articles[\"articles\"][i][\"content\"]ticles\"][i][\"content\"])\u001b[0m\u001b[0;34m\u001b[0m\u001b[0;34m\u001b[0m\u001b[0;34m\u001b[0m\u001b[0m\n\u001b[1;32m     31\u001b[0m     \u001b[0mnew\u001b[0m \u001b[0;34m=\u001b[0m \u001b[0mall_articles\u001b[0m\u001b[0;34m[\u001b[0m\u001b[0;34m\"articles\"\u001b[0m\u001b[0;34m]\u001b[0m\u001b[0;34m[\u001b[0m\u001b[0mi\u001b[0m\u001b[0;34m]\u001b[0m\u001b[0;34m[\u001b[0m\u001b[0;34m\"content\"\u001b[0m\u001b[0;34m]\u001b[0m\u001b[0;34m\u001b[0m\u001b[0;34m\u001b[0m\u001b[0m\n\u001b[0;32m---> 32\u001b[0;31m     \u001b[0mprint\u001b[0m\u001b[0;34m(\u001b[0m\u001b[0mall_articles\u001b[0m\u001b[0;34m.\u001b[0m\u001b[0murl\u001b[0m\u001b[0;34m)\u001b[0m\u001b[0;34m\u001b[0m\u001b[0;34m\u001b[0m\u001b[0m\n\u001b[0m\u001b[1;32m     33\u001b[0m     \u001b[0ml\u001b[0m\u001b[0;34m.\u001b[0m\u001b[0mappend\u001b[0m\u001b[0;34m(\u001b[0m\u001b[0mnew\u001b[0m\u001b[0;34m)\u001b[0m\u001b[0;34m\u001b[0m\u001b[0;34m\u001b[0m\u001b[0m\n\u001b[1;32m     34\u001b[0m \u001b[0;31m#     print(type(all_articles[\"articles\"][i][\"content\"]))\u001b[0m\u001b[0;34m\u001b[0m\u001b[0;34m\u001b[0m\u001b[0;34m\u001b[0m\u001b[0m\n",
      "\u001b[0;31mAttributeError\u001b[0m: 'dict' object has no attribute 'url'"
     ]
    }
   ],
   "source": [
    "from newsapi import NewsApiClient\n",
    "from textblob import TextBlob\n",
    "import pprint\n",
    "import pandas as pd\n",
    "# Init\n",
    "newsapi = NewsApiClient(api_key='c9989551e9cc459f8b98ba49ce77add0')\n",
    "\n",
    "# /v2/top-headlines\n",
    "'''\n",
    "top_headlines = newsapi.get_top_headlines(q='bitcoin',\n",
    "                                          #sources='bbc-news,the-verge',\n",
    "                                          category='business',\n",
    "                                          language='en',\n",
    "                                          country='us')\n",
    "print(top_headlines)\n",
    "'''\n",
    "# /v2/everything\n",
    "all_articles = newsapi.get_everything(\n",
    "                                      #sources='bbc-news,the-verge','ars-technica',\n",
    "                                      domains='bbc.co.uk,techcrunch.com',\n",
    "                                      from_param='2020-03-11',\n",
    "                                      to='2020-03-12',\n",
    "                                      language='en',\n",
    "                                      sort_by='relevancy',\n",
    "                                      page=3)\n",
    "\n",
    "l=[]\n",
    "\n",
    "for i in range(len(all_articles)):\n",
    "    #pprint.pprint(all_articles[\"arall_articles[\"articles\"][i][\"content\"]ticles\"][i][\"content\"])\n",
    "    new = all_articles[\"articles\"][i][\"content\"]\n",
    "    print(all_articles.url)\n",
    "    l.append(new)\n",
    "#     print(type(all_articles[\"articles\"][i][\"content\"]))\n",
    "df = pd.DataFrame(l,columns=[\"Articles\"])\n",
    "print((df))    \n",
    "pprint.pprint(all_articles[\"articles\"][5].keys())"
   ]
  },
  {
   "cell_type": "code",
   "execution_count": 28,
   "metadata": {},
   "outputs": [
    {
     "name": "stdout",
     "output_type": "stream",
     "text": [
      "{'status': 'ok', 'totalResults': 5438, 'articles': [{'source': {'id': 'engadget', 'name': 'Engadget'}, 'author': 'Mariella Moon', 'title': 'Google is working on a native printing and scanning app for Chrome OS', 'description': \"Google is working on a native Chrome OS app for printing and scanning, according to 9to5Google. Even though Chromebooks are geared towards schools, they don't provide an easy way to see queued print jobs or to figure out the errors that prevent a printer from…\", 'url': 'https://www.engadget.com/2020/03/11/google-native-printing-scanning-chrome-os/', 'urlToImage': 'https://o.aolcdn.com/images/dims?resize=1200%2C630&crop=1200%2C630%2C0%2C0&quality=80&image_uri=https%3A%2F%2Fo.aolcdn.com%2Fimages%2Fdims%3Fcrop%3D4000%252C2499%252C0%252C167%26quality%3D85%26format%3Djpg%26resize%3D1600%252C1000%26image_uri%3Dhttps%253A%252F%252Fs.yimg.com%252Fos%252Fcreatr-images%252F2020-03%252Fcc6bbb00-63ee-11ea-a779-48527dd337cf%26client%3Da1acac3e1b3290917d92%26signature%3D059ec67ee7f8e29f079516c06051c9daa5a48e31&client=amp-blogside-v2&signature=5c2406819c0be5baaea56c1ba0d51634352ae442', 'publishedAt': '2020-03-12T00:46:00Z', 'content': \"Print Management App\\r\\nEnables the print management app that allows Chrome OS users to view and manage their native print jobs.\\r\\n#print-job-management-app\\r\\nThe app's development is still in its very early stages, but it will apparently show you your recent pri… [+492 chars]\"}, {'source': {'id': 'engadget', 'name': 'Engadget'}, 'author': 'Igor Bonifacic', 'title': 'Android Auto is coming to Harley-Davidson motorcycles', 'description': \"With the exception of a couple of late stragglers, Android Auto has become commonplace on most cars. Not so with motorcycles. But that's about to change with Harley-Davidson announcing that it plans to update some of its existing motorcycles to support Androi…\", 'url': 'https://www.engadget.com/2020/03/12/android-auto-harley-davidson-motorcycles/', 'urlToImage': 'https://o.aolcdn.com/images/dims?resize=1200%2C630&crop=1200%2C630%2C0%2C0&quality=80&image_uri=https%3A%2F%2Fo.aolcdn.com%2Fimages%2Fdims%3Fresize%3D2000%252C2000%252Cshrink%26image_uri%3Dhttps%253A%252F%252Fs.yimg.com%252Fos%252Fcreatr-uploaded-images%252F2020-03%252F75780ad0-6464-11ea-af6f-8c876dacabfc%26client%3Da1acac3e1b3290917d92%26signature%3D6505b50b644db8e4bd744b75717e004287bf5c36&client=amp-blogside-v2&signature=426e24678074dd84e2224d3dd8fc95de750a4f50', 'publishedAt': '2020-03-12T14:28:00Z', 'content': \"If you own a 2014 or later model Touring, Trike or CVO motorcycle and it's equipped with the company's Boom! Box GTS infotainment system, you'll be able to install Android Auto on your bike by yourself or with the help of a dealership early this summer. If yo… [+772 chars]\"}, {'source': {'id': 'engadget', 'name': 'Engadget'}, 'author': 'Steve Dent', 'title': 'Magic Leap is reportedly trying to find a buyer', 'description': 'Following poor sales with its first augmented reality (AR) headset, Magic Leap is seeking a buyer for at least part of its business, according to Bloomberg. The company has reportedly already spoken with Facebook and Johnson & Johnson and insiders said it cou…', 'url': 'https://www.engadget.com/2020/03/12/magic-leap-up-for-sale/', 'urlToImage': 'https://o.aolcdn.com/images/dims?resize=1200%2C630&crop=1200%2C630%2C0%2C0&quality=80&image_uri=https%3A%2F%2Fo.aolcdn.com%2Fimages%2Fdims%3Fresize%3D2000%252C2000%252Cshrink%26image_uri%3Dhttps%253A%252F%252Fs.yimg.com%252Fos%252Fcreatr-uploaded-images%252F2019-03%252F8abb4e90-50b3-11e9-aaff-ba09ebd015cd%26client%3Da1acac3e1b3290917d92%26signature%3D59a74288ccbf5ce945fab394555e468caaeb6c36&client=amp-blogside-v2&signature=ca1e54c238793bf76c65a1273d55bf0eec2c6941', 'publishedAt': '2020-03-12T10:05:00Z', 'content': \"Facebook took a meeting with Magic Leap but reportedly isn't interested in buying it right now, as the social network is still trying to make its Oculus investment work. Johnson &amp; Johnson declined to comment. The company's other investors include NTT Doco… [+1299 chars]\"}, {'source': {'id': 'engadget', 'name': 'Engadget'}, 'author': 'Engadget', 'title': 'The Morning After: BMW will end production of the i8 soon', 'description': \"Hey, good morning! You look fabulous. E3 is canceled. Due to the extended threat of the coronavirus pandemic, the gaming industry's biggest event of the year isn't happening. Please add it to the canceled event list that includes SXSW and Google I/O. As we me…\", 'url': 'https://www.engadget.com/2020/03/12/bmw-i8-morning-after/', 'urlToImage': 'https://o.aolcdn.com/images/dims?resize=1200%2C630&crop=1200%2C630%2C0%2C0&quality=80&image_uri=https%3A%2F%2Fo.aolcdn.com%2Fimages%2Fdims%3Fresize%3D2000%252C2000%252Cshrink%26image_uri%3Dhttps%253A%252F%252Fs.yimg.com%252Fos%252Fcreatr-uploaded-images%252F2020-03%252Fa8fb7ff0-644f-11ea-9fff-f6e957f77bfa%26client%3Da1acac3e1b3290917d92%26signature%3D8e0f3a3506a78e98bbe84dde18356533b71d6fbb&client=amp-blogside-v2&signature=f45835e924ad24c8b6cc12ef5f557773f66f755f', 'publishedAt': '2020-03-12T11:30:00Z', 'content': \"Cross-platform play from day one is impressive.'Call of Duty: Warzone' is a serious contender to Fortnite's throne\\r\\nNow that Call of Duty Modern Warfare has a free-to-play battle royale add-on, is it really ready to compete with the champs of the genre? Accor… [+3375 chars]\"}, {'source': {'id': 'techcrunch', 'name': 'TechCrunch'}, 'author': 'Manish Singh', 'title': 'Google employee in Bangalore tests positive for coronavirus', 'description': 'Google said on Thursday that an employee at its office in Bangalore, India has tested positive for the COVID-19 coronavirus and the firm has asked all the other employees in that office to work from home on Friday out of abundance of caution. “We can confirm …', 'url': 'http://techcrunch.com/2020/03/12/google-employee-in-bangalore-tests-positive-for-coronavirus/', 'urlToImage': 'https://techcrunch.com/wp-content/uploads/2020/03/GettyImages-1179314024.jpg?w=600', 'publishedAt': '2020-03-12T23:54:58Z', 'content': 'Google said on Thursday that an employee at its office in Bangalore, India has tested positive for the COVID-19 coronavirus and the firm has asked all the other employees in that office to work from home on Friday out of abundance of caution.\\r\\nWe can confirm … [+1793 chars]'}, {'source': {'id': 'techcrunch', 'name': 'TechCrunch'}, 'author': 'Taylor Hatmaker', 'title': 'Democrats are using a data scientist’s secret sauce to flip Texas blue', 'description': 'For a political campaign, it’s not enough to pull together an army of bright-eyed, venti-caffeinated canvassers—you’ve got to tell them which doors to knock on. In Texas, the Democratic party is spearheading a data experiment that, if it works, could turn an …', 'url': 'http://techcrunch.com/2020/03/12/texas-democratic-party-machine-learning-texas-model-data/', 'urlToImage': 'https://techcrunch.com/wp-content/uploads/2020/03/GettyImages-654557978.jpg?w=600', 'publishedAt': '2020-03-12T13:59:13Z', 'content': 'For a political campaign, its not enough to pull together an army of bright-eyed, venti-caffeinated canvassersyouve got to tell them which doors to knock on. In Texas, the Democratic party is spearheading a data experiment that, if it works, could turn an eme… [+3973 chars]'}, {'source': {'id': None, 'name': 'Gizmodo.com'}, 'author': 'Joanna Nelius', 'title': \"$2 Billion Wasn't Enough to Keep Magic Leap Afloat, So Now It Wants to Find a Buyer\", 'description': 'After years of drumming up ridiculous hype, producing a mediocre product, and raising an absurd amount of money (a little over $2 billion, to be a little more precise), augmented-reality start-up Magic Leap is reportedly looking to sell itself. According to B…', 'url': 'https://gizmodo.com/2-billion-wasnt-enough-to-keep-magic-leap-afloat-so-n-1842279677', 'urlToImage': 'https://i.kinja-img.com/gawker-media/image/upload/c_fill,f_auto,fl_progressive,g_center,h_675,pg_1,q_80,w_1200/nos7h5id5iyxbvpkxo41.jpg', 'publishedAt': '2020-03-12T01:59:00Z', 'content': 'After years of drumming up ridiculoushype, producing a mediocre product, and raising an absurd amount of money (a little over $2 billion, to be a little more precise), augmented-reality start-up Magic Leap is reportedly looking to sell itself. According to Bl… [+1526 chars]'}, {'source': {'id': None, 'name': 'Gizmodo.com'}, 'author': 'Joanna Nelius', 'title': 'AT&T Waiving Data Overage Fees for Home Internet Subscribers Due to Covid-19', 'description': 'AT&T just confirmed that it will be waiving data overage fees for all its internet customers, which means if you go over your data cap, you won’t be fined. The reason? Coronavirus, of course. Read more...', 'url': 'https://gizmodo.com/at-t-waiving-data-overage-fees-for-home-internet-subscr-1842300601', 'urlToImage': 'https://i.kinja-img.com/gawker-media/image/upload/c_fill,f_auto,fl_progressive,g_center,h_675,pg_1,q_80,w_1200/dohkcs13mdzsq48eckrz.jpg', 'publishedAt': '2020-03-12T23:01:00Z', 'content': 'AT&amp;T just confirmed that it will be waiving data overage fees for all its internet customers, which means if you go over your data cap, you wont be fined. The reason? Coronavirus, of course.\\r\\nAT&amp;T announced the decision, first reported by Vice, in an … [+1653 chars]'}, {'source': {'id': 'mashable', 'name': 'Mashable'}, 'author': 'Shannon Connellan', 'title': 'Twitter makes working from home mandatory due to coronavirus pandemic', 'description': \"Twitter has made working from home mandatory for all its workers around the globe following the spread of the new coronavirus. The social media giant announced the policy in a blog post on Thursday, following the World Health Organisation's characterization o…\", 'url': 'https://mashable.com/article/coronavirus-twitter-working-from-home/', 'urlToImage': 'https://mondrian.mashable.com/2020%252F03%252F12%252F28%252F36e26fa7740b49488adae072b12410ea.4a26b.png%252F1200x630.png?signature=ZW5PlwUkecmQmwH4XlcVTVs0nT0=', 'publishedAt': '2020-03-12T12:13:55Z', 'content': \"Twitter has made working from home mandatory for all its workers around the globe following the spread of the new coronavirus.\\xa0\\r\\nThe social media giant announced the policy in a blog post on Thursday, following the World Health Organisation's characterization… [+2252 chars]\"}, {'source': {'id': 'mashable', 'name': 'Mashable'}, 'author': '(Deleted account)', 'title': 'YouTube reverses coronavirus monetization policy', 'description': 'YouTube is doing an about face on its recent coronavirus policy. The Google-owned video streaming company has decided to allow some creators and news channels to monetize its coronavirus-related content. This update comes directly from YouTube CEO Susan Wojci…', 'url': 'https://mashable.com/article/coronavirus-youtube-monetization/', 'urlToImage': 'https://mondrian.mashable.com/2020%252F03%252F12%252F00%252F7736a64938f34f6f8545c5599806b6de.440ca.jpg%252F1200x630.jpg?signature=6OaN7hnEpcj-UII99e2l07p8l5Y=', 'publishedAt': '2020-03-12T00:23:45Z', 'content': 'YouTube is doing an about face on its recent coronavirus policy.\\r\\nThe Google-owned video streaming company has decided to allow some creators and news channels to monetize its coronavirus-related content. This update comes directly from YouTube CEO Susan Wojc… [+2074 chars]'}, {'source': {'id': None, 'name': 'Blog.google'}, 'author': 'Eddie ChungDirector of Product Management, AR', 'title': 'Go beyond the page with Google Lens and NYT Magazine', 'description': 'When you read an article online—including this one—videos, GIFs, photo galleries and links to related articles can help you get a better sense of the story. But in print, you’re limited by what can fit on the page. So how do you go beyond what’s on the physic…', 'url': 'https://www.blog.google/products/google-lens/go-beyond-page-google-lens-and-nyt-magazine/?utm_source=feedburner&utm_medium=feed&utm_campaign=Feed%3A+blogspot%2FMKuf+%28The+Keyword+%7C+Official+Google+Blog%29', 'urlToImage': 'https://blog.google/static/blogv2/images/google-1000x1000.png', 'publishedAt': '2020-03-12T12:30:00Z', 'content': 'When you read an article onlineincluding this onevideos, GIFs, photo galleries and links to related articles can help you get a better sense of the story. But in print, youre limited by what can fit on the page. So how do you go beyond whats on the physical p… [+589 chars]'}, {'source': {'id': None, 'name': 'Blog.google'}, 'author': 'Ben FriedVP, CIO, & Chief Domains Enthusiast', 'title': 'Highlights from the first year of.dev', 'description': 'A year ago, our Google Registry team launched.dev—a top-level domain (TLD) for developers, designers, technical writers, and technology enthusiasts. This new TLD gave people the chance to register memorable domain names that can be hard to find on older domai…', 'url': 'https://www.blog.google/technology/developers/highlights-first-year-dev/?utm_source=feedburner&utm_medium=feed&utm_campaign=Feed%3A+blogspot%2FMKuf+%28The+Keyword+%7C+Official+Google+Blog%29', 'urlToImage': 'https://blog.google/static/blogv2/images/google-1000x1000.png', 'publishedAt': '2020-03-12T16:00:00Z', 'content': 'Atlassian\\r\\nAtlassian launched both software.dev and cicd.dev to share insights into todays software development landscape and how software and IT professionals use CI/CD tools. Using .dev domains helped them market both sites, which have sparked conversations… [+1854 chars]'}, {'source': {'id': None, 'name': 'Androidcentral.com'}, 'author': 'Asher Madan', 'title': 'The Crew 2 announced for Google Stadia (update)', 'description': \"It's a great game. What you need to know Google Stadia is a game streaming service. It's getting a lot of interesting games in the coming weeks to months. Today, Ubisoft announced that its open-world racing experience, The Crew 2, was joining Stadia. You can …\", 'url': 'https://www.androidcentral.com/crew-2-announced-google-stadia-update', 'urlToImage': 'https://www.androidcentral.com/sites/androidcentral.com/files/styles/large/public/article_images/2020/03/ubisoft.jpg?itok=-T-WvkcN', 'publishedAt': '2020-03-12T17:06:13Z', 'content': \"Updated March 12, 2020: The Crew 2's official Twitter account deleted the old tweet and posted a new one. In a reply, it was also confirmed that the game launches on March 25.\\r\\nThe Crew 2 is an open-world racing game that has had its fair share of ups and dow… [+837 chars]\"}, {'source': {'id': None, 'name': 'Androidcentral.com'}, 'author': 'Jason England', 'title': 'The Pixel 4 may soon be able to shoot 4K60 video', 'description': \"Evidence found in the latest Google Camera 7.4 APK. What you need to know A new 4K 60fps mode is referenced in the latest leaked version of the Google Camera app. It's still uncertain which Pixel models will receive the new shooting mode or when the update wi…\", 'url': 'https://www.androidcentral.com/pixel-4-may-soon-be-able-shoot-4k60-video-thanks-upcoming-camera-update', 'urlToImage': 'https://www.androidcentral.com/sites/androidcentral.com/files/styles/large/public/article_images/2019/10/google-pixel-4-xl-joe-17.jpeg?itok=u8XLmv7s', 'publishedAt': '2020-03-12T13:47:02Z', 'content': \"When you think of phones with the best cameras, Google's Pixel lineup no doubt comes to mind. While the camera on the aptly named Pixel has always impressed users and reviewers for stills, it often left us less than impressed when it comes to video. It doesn'… [+1476 chars]\"}, {'source': {'id': None, 'name': 'Androidcentral.com'}, 'author': 'Babu Mohan', 'title': 'Google Play Store dark theme toggle is now rolling out to all users', 'description': \"The Play Store's dark theme is no longer exclusive to devices running Android 10. What you need to know Google Play Store's new toggle lets you switch between light and dark themes. The toggle can be found within Play Store settings. In addition to the new to…\", 'url': 'https://www.androidcentral.com/google-play-stores-dark-theme-toggle-now-rolling-out-all-users', 'urlToImage': 'https://www.androidcentral.com/sites/androidcentral.com/files/styles/large/public/article_images/2019/05/google-play-store-2019-redesign.jpg?itok=fLQ_EtSf', 'publishedAt': '2020-03-12T12:29:40Z', 'content': 'Earlier this month, Google started adding a dark theme toggle to the Play Store on some devices. The company has now announced that the toggle is now available on all Android devices, allowing users to easily switch between light and dark themes. Until now, t… [+1132 chars]'}, {'source': {'id': None, 'name': 'Androidcentral.com'}, 'author': 'Jason England', 'title': \"Google's Android policy prevents TV makers from producing Amazon Fire TVs\", 'description': 'By preventing manufacturers from using both Android and forked versions of Android. What you need to know By licensing Android, a company agrees not to manufacture another device running a fork of Android, or it will lose access to Google apps and the Play St…', 'url': 'https://www.androidcentral.com/googles-android-policy-prevents-tv-makers-producing-amazon-fire-tvs', 'urlToImage': 'https://www.androidcentral.com/sites/androidcentral.com/files/styles/large/public/article_images/2018/05/android-tv-huge-tv.jpg?itok=Sv-CvEfM', 'publishedAt': '2020-03-12T15:43:34Z', 'content': 'When a company licenses Android from Google for a smartphone, it does so with specific stipulations. One of the requirements being that it bars you from producing devices with a forked version of Android. If you do, then you take the risk of losing access to … [+3119 chars]'}, {'source': {'id': None, 'name': 'Androidcentral.com'}, 'author': 'Muhammad Jarir Kanji', 'title': \"Google's G Suite, which includes Docs, just surpassed 2 billion users\", 'description': 'G Suite boss Javier Soltero also suggested the company is looking at better integration between apps for the future. What you need to know G Suite now has over 2 billion active monthly users, the GM and VP of G Suite revealed this week. Bringing smart compose…', 'url': 'https://www.androidcentral.com/googles-g-suite-which-includes-docs-just-surpassed-2-billion-users', 'urlToImage': 'https://www.androidcentral.com/sites/androidcentral.com/files/styles/large/public/article_images/2014/05/Google-Docs-Install.jpg?itok=0EZWCOyS', 'publishedAt': '2020-03-12T21:20:47Z', 'content': \"No longer is G Suite a fledgling underdog to Microsoft Office. As Google GM and VP of G Suite, Javier Soltero, revealed in an interview with Axios this week, Google's productivity suite just crossed a significant milestone: 2 billion active monthly users.\\r\\nAn… [+1412 chars]\"}, {'source': {'id': None, 'name': 'Androidcentral.com'}, 'author': 'Muhammad Jarir Kanji', 'title': \"The YouTube app says goodbye to 'Trending', hello to 'Explore'\", 'description': 'The new \"Explore\" tab includes landing pages for different types of content. What you need to know The \\'Trending\\' tab in the YouTube mobile app is being replaced by \\'Explore.\\' The new tab has everything the \\'Trending\\' tab did, plus links to destination pages …', 'url': 'https://www.androidcentral.com/youtube-app-says-goodbye-trending-hello-explore', 'urlToImage': 'https://www.androidcentral.com/sites/androidcentral.com/files/styles/large/public/article_images/2018/06/youtube-premium-hero-galaxy-s9.jpg?itok=XQesklxW', 'publishedAt': '2020-03-12T22:35:51Z', 'content': \"Google is making a slight change to the YouTube mobile app. A new 'Explore' tab will be taking the place of the 'Trending' tab. The redesign is a result of experiments the company has been trying since 2018. The blog post announcing the change explains it as … [+1387 chars]\"}, {'source': {'id': None, 'name': 'Androidcentral.com'}, 'author': 'Joe Maring', 'title': 'Reduce data usage on your Android phone with this one simple tool', 'description': \"Never go over your monthly data allowance ever again. We all like using our phones, but as you continue to run apps, games, websites, etc., it doesn't take long to eat up your mobile data. I think we can all agree that this is something we generally are not a…\", 'url': 'https://www.androidcentral.com/how-use-less-mobile-data-your-android-phone', 'urlToImage': 'https://www.androidcentral.com/sites/androidcentral.com/files/styles/large/public/article_images/2020/03/android-data-saver-pixel-4-hero.jpg?itok=P3CG31_L', 'publishedAt': '2020-03-12T20:00:04Z', 'content': \"We all like using our phones, but as you continue to run apps, games, websites, etc., it doesn't take long to eat up your mobile data. I think we can all agree that this is something we generally are not a fan of.\\r\\nYou may not think you use that much data dur… [+3536 chars]\"}, {'source': {'id': None, 'name': 'Androidcentral.com'}, 'author': 'Michael Allison', 'title': 'Magic Leap is searching for a buyer', 'description': 'The company has looked at Facebook and Johnson & Johnson as potential partners. What you need to know Startup Magic Leap is looking to partner with other companies, exploring options up to an acquisition. The company has been looking at interested parties lik…', 'url': 'https://www.androidcentral.com/magic-leap-searching-buyer', 'urlToImage': 'https://www.androidcentral.com/sites/androidcentral.com/files/styles/large/public/article_images/2018/08/magic-leap-one-headset-creator-edition.jpg?itok=2RX68J_x', 'publishedAt': '2020-03-12T21:53:00Z', 'content': \"AR startup Magic Leap is looking at a few options, including partnering with another company or selling a large stake in its business.\\r\\nAccording to Bloomberg who broke the story this week:\\r\\nMagic Leap, which counts Alphabet Inc.'s Google and Alibaba Group Ho… [+2691 chars]\"}]}\n"
     ]
    }
   ],
   "source": [
    "\n",
    "import requests\n",
    "import json\n",
    "import pandas\n",
    "\n",
    "headers = {'Authorization': 'c9989551e9cc459f8b98ba49ce77add0'}\n",
    "\n",
    "\n",
    "top_headlines_url = 'http://newsapi.org/v2/everything?q=google&from=2020-03-12&to=2020-03-12&sortBy=popularity&apiKey=c9989551e9cc459f8b98ba49ce77add0'\n",
    "\n",
    "\n",
    "# headlines_payload = {'category': 'google', 'country': 'us'}\n",
    "response = requests.get(url=top_headlines_url, headers=headers)\n",
    "\n",
    "pretty_json_output = json.dumps(response.json(), indent=4)\n",
    "# print((pretty_json_output))\n",
    " \n",
    "response_json_string = json.dumps(response.json())\n",
    "response_dict = json.loads(response_json_string)\n",
    "\n",
    "articles_list = response_dict['articles']\n",
    "print((response_dict))\n",
    "\n",
    "# with urllib.request.urlopen(\"http://newsapi.org/v2/everything?q=google&from=2020-03-12&to=2020-03-12&sortBy=popularity&apiKey=c9989551e9cc459f8b98ba49ce77add0\") as url:\n",
    "#     s = url.read()\n",
    "    \n",
    "#     # I'm guessing this would output the html source code ?\n",
    "#     print((s))"
   ]
  },
  {
   "cell_type": "code",
   "execution_count": null,
   "metadata": {},
   "outputs": [],
   "source": [
    "newsapi.get_sources(category=\"technology\")"
   ]
  },
  {
   "cell_type": "code",
   "execution_count": null,
   "metadata": {},
   "outputs": [],
   "source": [
    "import nltk\n",
    "from nltk.sentiment.vader import SentimentIntensityAnalyzer as SIA\n",
    "sia = SIA()\n",
    "\n",
    "for i in range(len(all_articles)):\n",
    "    new = all_articles[\"articles\"][i][\"content\"]\n",
    "    pol_score = sia.polarity_scores(new)\n",
    "    print(pol_score)\n",
    "    #pprint.pprint(all_articles[\"articles\"][i][\"content\"])\n",
    "\n",
    "\n",
    "\n",
    "    \n",
    "# line = \"Textblob is amazingly simple to use. What great fun!\"\n",
    "# testimonial = TextBlob(\"Textblob is amazingly simple to use. What great fun!\")\n",
    "# pol_score = sia.polarity_scores(line)\n",
    "\n",
    "# print(pol_score)\n",
    "# testimonial.sentiment\n",
    "# wiki.tags\n",
    "# wiki.noun_phrases\n"
   ]
  },
  {
   "cell_type": "code",
   "execution_count": null,
   "metadata": {},
   "outputs": [],
   "source": [
    "sia = SIA()\n",
    "results = []\n",
    "\n",
    "for line in headlines:\n",
    "    pol_score = sia.polarity_scores(line)\n",
    "    pol_score['headline'] = line\n",
    "    results.append(pol_score)\n",
    "\n",
    "pprint(results[:3], width=100)"
   ]
  },
  {
   "cell_type": "code",
   "execution_count": null,
   "metadata": {},
   "outputs": [],
   "source": [
    "from nltk.corpus import stopwords\n",
    "stop = stopwords.words(\"english\")\n",
    "\n",
    "# print(short_data['SentimentText'])\n",
    "print('-------Remove Stop Word--------')\n",
    "short_data['Step1_SentimentText'] = short_data['SentimentText'].apply(lambda x: ' '.join([word for word in x.split() if word not in (stop)]))\n",
    "print(short_data['Step1_SentimentText'])"
   ]
  },
  {
   "cell_type": "markdown",
   "metadata": {},
   "source": [
    "# Test on Newalien api"
   ]
  },
  {
   "cell_type": "code",
   "execution_count": null,
   "metadata": {},
   "outputs": [],
   "source": [
    "from __future__ import print_function\n",
    "import time\n",
    "import aylien_news_api\n",
    "from aylien_news_api.rest import ApiException\n",
    "from pprint import pprint\n",
    "\n",
    "configuration = aylien_news_api.Configuration()\n",
    "configuration.api_key['X-AYLIEN-NewsAPI-Application-ID'] = 'f6c379e7'\n",
    "configuration.api_key['X-AYLIEN-NewsAPI-Application-Key'] = '3a378130a57c3809937b769a94e27704'\n",
    "\n",
    "client = aylien_news_api.ApiClient(configuration)\n",
    "api_instance = aylien_news_api.DefaultApi(client)\n",
    "\n",
    "try:\n",
    "    api_response = api_instance.list_stories(\n",
    "        title='startup',\n",
    "        published_at_start='NOW-20DAYS',\n",
    "        published_at_end='NOW',\n",
    "        not_language=['en']\n",
    "    )\n",
    "    print(api_response)\n",
    "except ApiException as e:\n",
    "    print(\"Exception when calling DefaultApi->list_stories: %s\\n\" % e)"
   ]
  },
  {
   "cell_type": "code",
   "execution_count": null,
   "metadata": {},
   "outputs": [],
   "source": [
    "pprint(len(api_response.stories))\n",
    "# newdf = pd.DataFrame(api_response.stories)\n",
    "# newdf"
   ]
  },
  {
   "cell_type": "code",
   "execution_count": null,
   "metadata": {},
   "outputs": [],
   "source": [
    "abc = ['Y', 'a', 'foo', 'bar']\n",
    "# abc = map(str.lower,abc)\n",
    "abc = [x.lower() for x in abc]\n",
    "\n",
    "any(x in abc for x in ['y', 'z'])"
   ]
  },
  {
   "cell_type": "code",
   "execution_count": null,
   "metadata": {},
   "outputs": [],
   "source": [
    "!pip3 install newspaper3k"
   ]
  },
  {
   "cell_type": "code",
   "execution_count": null,
   "metadata": {},
   "outputs": [],
   "source": [
    "import pandas as pd\n",
    "df = pd.read_csv(\"news201912.csv\")\n",
    "df.drop_duplicates(subset =\"SOURCEURL\", \n",
    "                     keep = False, inplace = True)\n",
    "\n",
    "print(len(df))\n"
   ]
  },
  {
   "cell_type": "code",
   "execution_count": null,
   "metadata": {},
   "outputs": [],
   "source": [
    "from newspaper import Article\n",
    "import nltk\n",
    "from nltk.sentiment.vader import SentimentIntensityAnalyzer as SIA\n",
    "sia = SIA()\n",
    "\n",
    "\n",
    "for i in df.SOURCEURL:\n",
    "    article = Article(i)\n",
    "    try:\n",
    "        article.download()\n",
    "        article.parse()\n",
    "        article.nlp()\n",
    "        article.keywords = [x.lower() for x in article.keywords]\n",
    "        if any(x in article.keywords for x in ['apple','google','microsoft']):\n",
    "#         if (\"apple\" in article.keywords): \n",
    "            print(article.title)\n",
    "            print((article.keywords))\n",
    "            print(i)\n",
    "            pol_score = sia.polarity_scores(article.summary)\n",
    "            print(pol_score)\n",
    "    except:\n",
    "        print(\"Article not found\")\n"
   ]
  },
  {
   "cell_type": "code",
   "execution_count": null,
   "metadata": {},
   "outputs": [],
   "source": [
    "from newspaper import Article\n",
    "import nltk\n",
    "from nltk.sentiment.vader import SentimentIntensityAnalyzer as SIA\n",
    "sia = SIA()\n",
    "\n",
    "for i in len(df.SOURCEURL)\n",
    "article = Article('https://economictimes.indiatimes.com/news/politics-and-nation/top-left-leaders-to-attend-pwf-public-meeting-vaiko/articleshow/50405414.cms')"
   ]
  },
  {
   "cell_type": "code",
   "execution_count": null,
   "metadata": {},
   "outputs": [],
   "source": [
    "article.download()\n",
    "article.parse()\n",
    "article.nlp()"
   ]
  },
  {
   "cell_type": "code",
   "execution_count": null,
   "metadata": {},
   "outputs": [],
   "source": [
    "# print(article.title)\n",
    "# print(article.text)\n",
    "print(article.summary)\n",
    "print(article.keywords)\n",
    "pol_score = sia.polarity_scores(article.summary)"
   ]
  },
  {
   "cell_type": "code",
   "execution_count": null,
   "metadata": {},
   "outputs": [],
   "source": [
    "pol_score"
   ]
  },
  {
   "cell_type": "code",
   "execution_count": null,
   "metadata": {},
   "outputs": [],
   "source": []
  }
 ],
 "metadata": {
  "kernelspec": {
   "display_name": "Python 3",
   "language": "python",
   "name": "python3"
  },
  "language_info": {
   "codemirror_mode": {
    "name": "ipython",
    "version": 3
   },
   "file_extension": ".py",
   "mimetype": "text/x-python",
   "name": "python",
   "nbconvert_exporter": "python",
   "pygments_lexer": "ipython3",
   "version": "3.7.7"
  }
 },
 "nbformat": 4,
 "nbformat_minor": 2
}
